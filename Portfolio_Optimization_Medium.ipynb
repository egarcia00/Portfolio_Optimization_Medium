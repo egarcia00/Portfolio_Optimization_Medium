{
 "cells": [
  {
   "cell_type": "code",
   "execution_count": 6,
   "metadata": {},
   "outputs": [],
   "source": [
    "import yfinance as yf\n",
    "import pandas as pd\n",
    "import numpy as np\n",
    "import matplotlib.pyplot as plt\n",
    "\n",
    "#Download multiple assets history\n",
    "def download(tickers, start=None, end=None, actions=False, threads=True,\n",
    "             group_by='column', auto_adjust=False, back_adjust=False,\n",
    "             progress=True, period=\"max\", show_errors=True, interval=\"1d\", prepost=False,\n",
    "             proxy=None, rounding=False, timeout=None, **kwargs):\n",
    "    \"\"\"Download yahoo tickers\n",
    "    :Parameters:\n",
    "        tickers : str, list\n",
    "            List of tickers to download\n",
    "        period : str\n",
    "            Valid periods: 1d,5d,1mo,3mo,6mo,1y,2y,5y,10y,ytd,max\n",
    "            Either Use period parameter or use start and end\n",
    "        interval : str\n",
    "            Valid intervals: 1m,2m,5m,15m,30m,60m,90m,1h,1d,5d,1wk,1mo,3mo\n",
    "            Intraday data cannot extend last 60 days\n",
    "        start: str\n",
    "            Download start date string (YYYY-MM-DD) or _datetime.\n",
    "            Default is 1900-01-01\n",
    "        end: str\n",
    "            Download end date string (YYYY-MM-DD) or _datetime.\n",
    "            Default is now\n",
    "        group_by : str\n",
    "            Group by 'ticker' or 'column' (default)\n",
    "        prepost : bool\n",
    "            Include Pre and Post market data in results?\n",
    "            Default is False\n",
    "        auto_adjust: bool\n",
    "            Adjust all OHLC automatically? Default is False\n",
    "        actions: bool\n",
    "            Download dividend + stock splits data. Default is False\n",
    "        threads: bool / int\n",
    "            How many threads to use for mass downloading. Default is True\n",
    "        proxy: str\n",
    "            Optional. Proxy server URL scheme. Default is None\n",
    "        rounding: bool\n",
    "            Optional. Round values to 2 decimal places?\n",
    "        show_errors: bool\n",
    "            Optional. Doesn't print errors if True\n",
    "        timeout: None or float\n",
    "            If not None stops waiting for a response after given number of\n",
    "            seconds. (Can also be a fraction of a second e.g. 0.01)\n",
    "    \"\"\"\n"
   ]
  },
  {
   "cell_type": "code",
   "execution_count": 16,
   "metadata": {},
   "outputs": [
    {
     "name": "stdout",
     "output_type": "stream",
     "text": [
      "[*********************100%***********************]  1 of 1 completed\n",
      "[*********************100%***********************]  3 of 3 completed\n"
     ]
    }
   ],
   "source": [
    "benchmark_ = [\"^GSPC\",]\n",
    "portfolio_ = ['AAPL', 'GOOG', 'AMZN']\n",
    "\n",
    "start_date_ = \"2017-01-01\"\n",
    "end_date_  = \"2022-03-31\"\n",
    "number_of_scenarios = 10000\n",
    "\n",
    "return_vector = []\n",
    "risk_vector = []\n",
    "distrib_vector = []\n",
    "\n",
    "#Get Information from Benchmark and Portfolio\n",
    "df = yf.download(benchmark_, start=start_date_, end=end_date_)\n",
    "df2 = yf.download(portfolio_, start=start_date_, end=end_date_)\n",
    "\n",
    "#Clean Rows with No Values on both Benchmark and Portfolio\n",
    "df = df.dropna(axis=0)\n",
    "df2 = df2.dropna(axis=0)\n",
    "\n",
    "#Matching the Days\n",
    "df = df[df.index.isin(df2.index)]"
   ]
  },
  {
   "cell_type": "code",
   "execution_count": 17,
   "metadata": {},
   "outputs": [
    {
     "data": {
      "text/html": [
       "<div>\n",
       "<style scoped>\n",
       "    .dataframe tbody tr th:only-of-type {\n",
       "        vertical-align: middle;\n",
       "    }\n",
       "\n",
       "    .dataframe tbody tr th {\n",
       "        vertical-align: top;\n",
       "    }\n",
       "\n",
       "    .dataframe thead th {\n",
       "        text-align: right;\n",
       "    }\n",
       "</style>\n",
       "<table border=\"1\" class=\"dataframe\">\n",
       "  <thead>\n",
       "    <tr style=\"text-align: right;\">\n",
       "      <th></th>\n",
       "      <th>Open</th>\n",
       "      <th>High</th>\n",
       "      <th>Low</th>\n",
       "      <th>Close</th>\n",
       "      <th>Adj Close</th>\n",
       "      <th>Volume</th>\n",
       "    </tr>\n",
       "    <tr>\n",
       "      <th>Date</th>\n",
       "      <th></th>\n",
       "      <th></th>\n",
       "      <th></th>\n",
       "      <th></th>\n",
       "      <th></th>\n",
       "      <th></th>\n",
       "    </tr>\n",
       "  </thead>\n",
       "  <tbody>\n",
       "    <tr>\n",
       "      <th>2017-01-03</th>\n",
       "      <td>2251.570068</td>\n",
       "      <td>2263.879883</td>\n",
       "      <td>2245.129883</td>\n",
       "      <td>2257.830078</td>\n",
       "      <td>2257.830078</td>\n",
       "      <td>3770530000</td>\n",
       "    </tr>\n",
       "    <tr>\n",
       "      <th>2017-01-04</th>\n",
       "      <td>2261.600098</td>\n",
       "      <td>2272.820068</td>\n",
       "      <td>2261.600098</td>\n",
       "      <td>2270.750000</td>\n",
       "      <td>2270.750000</td>\n",
       "      <td>3764890000</td>\n",
       "    </tr>\n",
       "    <tr>\n",
       "      <th>2017-01-05</th>\n",
       "      <td>2268.179932</td>\n",
       "      <td>2271.500000</td>\n",
       "      <td>2260.449951</td>\n",
       "      <td>2269.000000</td>\n",
       "      <td>2269.000000</td>\n",
       "      <td>3761820000</td>\n",
       "    </tr>\n",
       "    <tr>\n",
       "      <th>2017-01-06</th>\n",
       "      <td>2271.139893</td>\n",
       "      <td>2282.100098</td>\n",
       "      <td>2264.060059</td>\n",
       "      <td>2276.979980</td>\n",
       "      <td>2276.979980</td>\n",
       "      <td>3339890000</td>\n",
       "    </tr>\n",
       "    <tr>\n",
       "      <th>2017-01-09</th>\n",
       "      <td>2273.590088</td>\n",
       "      <td>2275.489990</td>\n",
       "      <td>2268.899902</td>\n",
       "      <td>2268.899902</td>\n",
       "      <td>2268.899902</td>\n",
       "      <td>3217610000</td>\n",
       "    </tr>\n",
       "  </tbody>\n",
       "</table>\n",
       "</div>"
      ],
      "text/plain": [
       "                   Open         High          Low        Close    Adj Close  \\\n",
       "Date                                                                          \n",
       "2017-01-03  2251.570068  2263.879883  2245.129883  2257.830078  2257.830078   \n",
       "2017-01-04  2261.600098  2272.820068  2261.600098  2270.750000  2270.750000   \n",
       "2017-01-05  2268.179932  2271.500000  2260.449951  2269.000000  2269.000000   \n",
       "2017-01-06  2271.139893  2282.100098  2264.060059  2276.979980  2276.979980   \n",
       "2017-01-09  2273.590088  2275.489990  2268.899902  2268.899902  2268.899902   \n",
       "\n",
       "                Volume  \n",
       "Date                    \n",
       "2017-01-03  3770530000  \n",
       "2017-01-04  3764890000  \n",
       "2017-01-05  3761820000  \n",
       "2017-01-06  3339890000  \n",
       "2017-01-09  3217610000  "
      ]
     },
     "execution_count": 17,
     "metadata": {},
     "output_type": "execute_result"
    }
   ],
   "source": [
    "df.head()"
   ]
  },
  {
   "cell_type": "code",
   "execution_count": 18,
   "metadata": {},
   "outputs": [],
   "source": [
    "# Analysis of Benchmark\n",
    "benchmark_vector = np.array(df['Close'])\n",
    "\n",
    "#Create our Daily Returns\n",
    "benchmark_vector = np.diff(benchmark_vector)/benchmark_vector[1:]\n",
    "\n",
    "#Select or Final Return and Risk\n",
    "benchmark_return = np.average(benchmark_vector)\n",
    "benchmark_risk = np.std(benchmark_vector)\n",
    "\n",
    "#Add our Benchmark info to our lists\n",
    "return_vector.append(benchmark_return)\n",
    "risk_vector.append(benchmark_risk)"
   ]
  },
  {
   "cell_type": "code",
   "execution_count": 19,
   "metadata": {},
   "outputs": [],
   "source": [
    "# Analysis of Portfolio\n",
    "portfolio_vector = np.array(df2['Close'])\n",
    "\n",
    "#Create a loop for the number of scenarios we want:\n",
    "\n",
    "for i in range(number_of_scenarios):\n",
    "    #Create a random distribution that sums 1 \n",
    "    # and is split by the number of stocks in the portfolio\n",
    "    random_distribution = np.random.dirichlet(np.ones(len(portfolio_)),size=1)\n",
    "    distrib_vector.append(random_distribution)\n",
    "    \n",
    "    #Find the Closing Price for everyday of the portfolio\n",
    "    portfolio_matmul = np.matmul(random_distribution,portfolio_vector.T)\n",
    "    \n",
    "    #Calculate the daily return\n",
    "    portfolio_matmul = np.diff(portfolio_matmul)/portfolio_matmul[:,1:]\n",
    "    \n",
    "    #Select or Final Return and Risk\n",
    "    portfolio_return = np.average(portfolio_matmul, axis=1)\n",
    "    portfolio_risk = np.std(portfolio_matmul, axis=1)\n",
    "    \n",
    "    #Add our Benchmark info to our lists\n",
    "    return_vector.append(portfolio_return[0])\n",
    "    risk_vector.append(portfolio_risk[0])"
   ]
  },
  {
   "cell_type": "code",
   "execution_count": 20,
   "metadata": {},
   "outputs": [],
   "source": [
    "#Create Risk Boundaries\n",
    "delta_risk = 0.05\n",
    "min_risk = np.min(risk_vector)\n",
    "max_risk = risk_vector[0]*(1+delta_risk)\n",
    "risk_gap = [min_risk, max_risk]"
   ]
  },
  {
   "cell_type": "code",
   "execution_count": 21,
   "metadata": {},
   "outputs": [],
   "source": [
    "#Portofolio Return and Risk Couple\n",
    "portfolio_array = np.column_stack((return_vector,risk_vector))[1:,]"
   ]
  },
  {
   "cell_type": "code",
   "execution_count": 22,
   "metadata": {},
   "outputs": [],
   "source": [
    "# Rule to create the best portfolio\n",
    "# If the criteria of minimum risk is satisfied then:\n",
    "if np.where(((portfolio_array[:,1]<= max_risk)))[0].shape[0]>1:\n",
    "    min_risk_portfolio = np.where(((portfolio_array[:,1]<= max_risk)))[0]\n",
    "    best_portfolio_loc = portfolio_array[min_risk_portfolio]\n",
    "    max_loc = np.argmax(best_portfolio_loc[:,0])\n",
    "    best_portfolio = best_portfolio_loc[max_loc]\n",
    "\n",
    "# If the criteria of minimum risk is not satisfied then:\n",
    "else:\n",
    "    min_risk_portfolio = np.where(((portfolio_array[:,1]== np.min(risk_vector[1:]))))[0]\n",
    "    best_portfolio_loc = portfolio_array[min_risk_portfolio]\n",
    "    max_loc = np.argmax(best_portfolio_loc[:,0])\n",
    "    best_portfolio = best_portfolio_loc[max_loc]"
   ]
  },
  {
   "cell_type": "code",
   "execution_count": 23,
   "metadata": {},
   "outputs": [
    {
     "name": "stderr",
     "output_type": "stream",
     "text": [
      "C:\\Users\\eduar\\AppData\\Local\\Temp\\ipykernel_2500\\2824339101.py:43: UserWarning: FixedFormatter should only be used together with FixedLocator\n",
      "  ax.set_yticklabels(['{:,.2%}'.format(x) for x in vals])\n"
     ]
    },
    {
     "data": {
      "text/plain": [
       "[Text(0, -0.05, '-5.00%'),\n",
       " Text(0, 0.0, '0.00%'),\n",
       " Text(0, 0.05, '5.00%'),\n",
       " Text(0, 0.10000000000000002, '10.00%'),\n",
       " Text(0, 0.15000000000000002, '15.00%'),\n",
       " Text(0, 0.2, '20.00%'),\n",
       " Text(0, 0.25000000000000006, '25.00%'),\n",
       " Text(0, 0.30000000000000004, '30.00%'),\n",
       " Text(0, 0.35000000000000003, '35.00%')]"
      ]
     },
     "execution_count": 23,
     "metadata": {},
     "output_type": "execute_result"
    },
    {
     "data": {
      "image/png": "[encoded data removed]",
      "text/plain": [
       "<Figure size 432x288 with 1 Axes>"
      ]
     },
     "metadata": {
      "needs_background": "light"
     },
     "output_type": "display_data"
    }
   ],
   "source": [
    "#Visual Representation\n",
    "trade_days_per_year = 252\n",
    "risk_gap = np.array(risk_gap)*trade_days_per_year\n",
    "best_portfolio[0] = np.array(best_portfolio[0])*trade_days_per_year\n",
    "x = np.array(risk_vector)\n",
    "y = np.array(return_vector)*trade_days_per_year\n",
    "\n",
    "fig, ax = plt.subplots()\n",
    "ax.scatter(x, y, alpha=0.5, \n",
    "           linewidths=0.1,  \n",
    "           edgecolors='black', \n",
    "           label='Portfolio Scenarios'\n",
    "            )\n",
    "\n",
    "ax.scatter(x[0], \n",
    "           y[0], \n",
    "           color='red', \n",
    "           linewidths=1,  \n",
    "           edgecolors='black', \n",
    "           label='Market Proxy Values')\n",
    " \n",
    "ax.scatter(best_portfolio[1], \n",
    "            best_portfolio[0], \n",
    "            color='green', \n",
    "            linewidths=1,  \n",
    "            edgecolors='black', \n",
    "            label='Best Performer')\n",
    "\n",
    "ax.axvspan(min_risk,\n",
    "           max_risk, \n",
    "           color='red', \n",
    "           alpha=0.08,\n",
    "           label='Accepted Risk Zone')\n",
    "\n",
    "ax.set_ylabel(\"Yearly Portfolio Average Return (%)\")\n",
    "ax.set_xlabel(\"Yearly Portfolio Standard Deviation\")\n",
    "\n",
    "ax.axhline(y=0, color='black',alpha=0.5)\n",
    "\n",
    "ax = plt.gca()\n",
    "ax.legend(loc=0)\n",
    "vals = ax.get_yticks()\n",
    "ax.set_yticklabels(['{:,.2%}'.format(x) for x in vals])\n",
    "# ax.set_xticklabels(['{:,.2%}'.format(x) for x in vals])"
   ]
  },
  {
   "cell_type": "code",
   "execution_count": 24,
   "metadata": {},
   "outputs": [
    {
     "data": {
      "text/html": [
       "<style type=\"text/css\">\n",
       "</style>\n",
       "<table id=\"T_41694\">\n",
       "  <thead>\n",
       "    <tr>\n",
       "      <th class=\"blank level0\" >&nbsp;</th>\n",
       "      <th id=\"T_41694_level0_col0\" class=\"col_heading level0 col0\" >Stock Name</th>\n",
       "      <th id=\"T_41694_level0_col1\" class=\"col_heading level0 col1\" >Stock % in Portfolio</th>\n",
       "    </tr>\n",
       "  </thead>\n",
       "  <tbody>\n",
       "    <tr>\n",
       "      <th id=\"T_41694_level0_row0\" class=\"row_heading level0 row0\" >2</th>\n",
       "      <td id=\"T_41694_row0_col0\" class=\"data row0 col0\" >AMZN</td>\n",
       "      <td id=\"T_41694_row0_col1\" class=\"data row0 col1\" >55.76%</td>\n",
       "    </tr>\n",
       "    <tr>\n",
       "      <th id=\"T_41694_level0_row1\" class=\"row_heading level0 row1\" >0</th>\n",
       "      <td id=\"T_41694_row1_col0\" class=\"data row1 col0\" >AAPL</td>\n",
       "      <td id=\"T_41694_row1_col1\" class=\"data row1 col1\" >23.64%</td>\n",
       "    </tr>\n",
       "    <tr>\n",
       "      <th id=\"T_41694_level0_row2\" class=\"row_heading level0 row2\" >1</th>\n",
       "      <td id=\"T_41694_row2_col0\" class=\"data row2 col0\" >GOOG</td>\n",
       "      <td id=\"T_41694_row2_col1\" class=\"data row2 col1\" >20.60%</td>\n",
       "    </tr>\n",
       "  </tbody>\n",
       "</table>\n"
      ],
      "text/plain": [
       "<pandas.io.formats.style.Styler at 0x2a51db32a90>"
      ]
     },
     "execution_count": 24,
     "metadata": {},
     "output_type": "execute_result"
    }
   ],
   "source": [
    "#Output Table of Distributions\n",
    "portfolio_loc = np.where((portfolio_array[:,0]==(best_portfolio[0]/trade_days_per_year))&(portfolio_array[:,1]==(best_portfolio[1])))[0][0]\n",
    "best_distribution = distrib_vector[portfolio_loc][0].tolist()\n",
    "d = {\"Stock Name\": portfolio_, \"Stock % in Portfolio\": best_distribution}\n",
    "output = pd.DataFrame(d)\n",
    "output = output.sort_values(by=[\"Stock % in Portfolio\"],ascending=False)\n",
    "output= output.style.format({\"Stock % in Portfolio\": \"{:.2%}\"})\n",
    "output"
   ]
  }
 ],
 "metadata": {
  "kernelspec": {
   "display_name": "Python 3.9.5 ('base')",
   "language": "python",
   "name": "python3"
  },
  "language_info": {
   "codemirror_mode": {
    "name": "ipython",
    "version": 3
   },
   "file_extension": ".py",
   "mimetype": "text/x-python",
   "name": "python",
   "nbconvert_exporter": "python",
   "pygments_lexer": "ipython3",
   "version": "3.9.5"
  },
  "orig_nbformat": 4,
  "vscode": {
   "interpreter": {
    "hash": "ebcfd9240d4f7a1ca5cc0d6f8b1d48473057696893f7c3a652a103ca28c8f92b"
   }
  }
 },
 "nbformat": 4,
 "nbformat_minor": 2
}
